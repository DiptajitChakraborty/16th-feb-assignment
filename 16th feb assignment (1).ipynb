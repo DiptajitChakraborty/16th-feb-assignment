{
 "cells": [
  {
   "cell_type": "code",
   "execution_count": 1,
   "id": "b5f11232-6c58-4979-860c-865c9b705c79",
   "metadata": {},
   "outputs": [],
   "source": [
    "#Q1\n",
    "#Ans:-A database is an organized collection of structured information, or data, typically stored electronically in a computer system.\n",
    "#There are 4 types of databases ;\n",
    "# 1.Hierarchical Databases\n",
    "# 2.Relational Databases\n",
    "# 3.Non_Relational Databases\n",
    "# 4.Object oriented databases\n",
    "\n",
    "# SQL is a relational database management system.These databases have fixed or static or predefined schema.These databases are best suited for complex queries.And sql follows ACID property.Ex:-MYSQL,Oracle,MS-SQL etc.\n",
    "\n",
    "# where NoSQL is a Non-relational or distributed database system.They have dynamic schema.These databases are not so good for complex queries. And it follows Follows CAP(consistency, availability, partition tolerance).Ex:-MongoDB,HBase,Neo4i ,Cassandra etc.\n"
   ]
  },
  {
   "cell_type": "code",
   "execution_count": 2,
   "id": "cf218e10-bea9-4a09-9eda-6fce688ef724",
   "metadata": {},
   "outputs": [],
   "source": [
    "#Q2\n",
    "#Ans:-A data definition language (DDL) is a computer language used to create and modify the structure of database objects in a database.Data Definition Language (DDL) is a subset of SQL.It is a language for describing data and its relationships in a database.\n",
    "\n",
    "#CREATE TABLE creates a new table in the database\n",
    "#Example\n",
    "#CREATE TABLE test_table(c1 INT, c2 VARCHAR(30), c3 FLOAT, c4 VARCHAR()) ;\n",
    "#DROP TABLE deletes a table in the database\n",
    "#Example\n",
    "#DROP TABLE test_table ;\n",
    "#AFTER TABLE adds, deletes or modifies columns in a table.\n",
    "#Example\n",
    "#ALTER TABLE test_table\n",
    "#ADD c5 varchar(255);\n",
    "#TRUNCATETABLE deletes the data inside a table, but not the table itself.\n",
    "#Example:\n",
    "#TRUNCATE TABLE test_table ;"
   ]
  },
  {
   "cell_type": "code",
   "execution_count": 5,
   "id": "f6cb6312-7720-4eea-807d-12a815f52b81",
   "metadata": {},
   "outputs": [],
   "source": [
    "#Q3\n",
    "#DML is an abbreviation for Data Manipulation Language. Represents a collection of programming languages explicitly used to make changes to the database, such as: CRUD operations to create, read, update and delete data. Using INSERT, SELECT, UPDATE, and DELETE commands.\n",
    "#INSERT is used for adding single or multiple rows to a table. INSERT can also add rows from one table into another table.\n",
    "#Example\n",
    "# INSERT INTO covid.Petient\n",
    "#             (Surname, FirstName, DOB, Sex, [Weight], Height, Vaccinated)\n",
    "# VALUES      ('Chakraborty', 'Diptajit','2002-07-25', 'M', 64.0, 5.11, 'Yes')\n",
    "#UPDATE is used for changing a column value for one or multiple rows.\n",
    "#Example\n",
    "# CREATE TABLE student(name char(30), regno number(10), branch char(20), age char(10));\n",
    "# INSERT INTO student values(‘hari’,100,’CSE’, 15);\n",
    "# insert into student values(‘shyam’,99,’CSE’, 14);\n",
    "# Select * from student;"
   ]
  },
  {
   "cell_type": "code",
   "execution_count": 6,
   "id": "4d3f7cd8-3f84-42bf-b647-7e555970042c",
   "metadata": {},
   "outputs": [],
   "source": [
    "#Q4\n",
    "#Ans:-\n",
    "#A primary key is the column or columns that contain values that uniquely identify each row in a table. A database table must have a primary key for Optim to insert, update, restore, or delete data from a database table.\n",
    "#A foreign key (FK) is a column or combination of columns that is used to establish and enforce a link between the data in two tables to control the data that can be stored in the foreign key table\n",
    "#Example\n",
    "#Primary Key\n",
    "# CREATE TABLE Persons (\n",
    "#     ID int NOT NULL,\n",
    "#     LastName varchar(255) NOT NULL,\n",
    "#     FirstName varchar(255),\n",
    "#     Age int,\n",
    "#     PRIMARY KEY (ID)\n",
    "# );\n",
    "\n",
    "#Foreign Key\n",
    "# CREATE TABLE Orders (\n",
    "#     OrderID int NOT NULL,\n",
    "#     OrderNumber int NOT NULL,\n",
    "#     PersonID int,\n",
    "#     PRIMARY KEY (OrderID),\n",
    "#     FOREIGN KEY (PersonID) REFERENCES Persons(PersonID)\n",
    "# );"
   ]
  },
  {
   "cell_type": "code",
   "execution_count": 8,
   "id": "06d4cd1e-f384-47f1-9652-bc671099645f",
   "metadata": {},
   "outputs": [],
   "source": [
    "#Q6\n",
    "#Ans:-\n",
    "# import mysql.connector\n",
    "\n",
    "# mydb = mysql.connector.connect(\n",
    "#   host=\"localhost\",\n",
    "#   user=\"abc\",\n",
    "#   password=\"password\"\n",
    "# )\n",
    "# mycursor = mydb.cursor()\n",
    "# mycursor.execute(\"CREATE TABLE if not exists test2.test_table(c1 INT, c2 VARCHAR(50), c3 FLOAT, c4 INT, c5 VARCHAR(30) );\")\n",
    "# mydb.close()\n",
    "\n",
    "\n",
    "#The Cursor() is used to execute statements to communicate with the MySQL database. Using the methods of it we can execute SQL statements, fetch data from the result sets, call procedures.\n",
    "#The execute() returns an iterator if multi is True . In Python, a tuple containing a single value must include a comma. "
   ]
  },
  {
   "cell_type": "code",
   "execution_count": 9,
   "id": "78ec892b-418a-4c93-affe-4201b578667b",
   "metadata": {},
   "outputs": [],
   "source": [
    "#Q7\n",
    "#Ans:\n",
    "# The order in which the clauses in queries are executed is as follows:\n",
    "\n",
    "# 1. FROM/JOIN: The FROM and/or JOIN clauses are executed first to determine the data of interest.\n",
    "\n",
    "# 2. WHERE: The WHERE clause is executed to filter out records that do not meet the constraints.\n",
    "\n",
    "# 3. GROUP BY: The GROUP BY clause is executed to group the data based on the values in one or more columns.\n",
    "\n",
    "# 4. HAVING: The HAVING clause is executed to remove the created grouped records that don’t meet the constraints.\n",
    "\n",
    "# 5. SELECT: The SELECT clause is executed to derive all desired columns and expressions.\n",
    "\n",
    "# 6. ORDER BY: The ORDER BY clause is executed to sort the derived values in ascending or descending order.\n",
    "\n",
    "# 7. LIMIT/OFFSET: Finally, the LIMIT and/or OFFSET clauses are executed to keep or skip a specified number of rows.\n",
    "\n"
   ]
  },
  {
   "cell_type": "code",
   "execution_count": null,
   "id": "42aabfe2-6743-46a1-8fa3-8e3b25263dba",
   "metadata": {},
   "outputs": [],
   "source": []
  }
 ],
 "metadata": {
  "kernelspec": {
   "display_name": "Python 3 (ipykernel)",
   "language": "python",
   "name": "python3"
  },
  "language_info": {
   "codemirror_mode": {
    "name": "ipython",
    "version": 3
   },
   "file_extension": ".py",
   "mimetype": "text/x-python",
   "name": "python",
   "nbconvert_exporter": "python",
   "pygments_lexer": "ipython3",
   "version": "3.10.8"
  }
 },
 "nbformat": 4,
 "nbformat_minor": 5
}
